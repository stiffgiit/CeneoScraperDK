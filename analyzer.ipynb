{
 "cells": [
  {
   "cell_type": "markdown",
   "metadata": {
    "vscode": {
     "languageId": "plaintext"
    }
   },
   "source": [
    "0. Import bibliotek"
   ]
  },
  {
   "cell_type": "code",
   "execution_count": 52,
   "metadata": {},
   "outputs": [],
   "source": [
    "import os\n",
    "import pandas as pd\n",
    "import numpy as np\n",
    "from matplotlib import pyplot as plt"
   ]
  },
  {
   "cell_type": "markdown",
   "metadata": {},
   "source": [
    "1. Wyświetlenie listy id produktów o których zostały pobrane opinie"
   ]
  },
  {
   "cell_type": "code",
   "execution_count": 53,
   "metadata": {},
   "outputs": [
    {
     "name": "stdout",
     "output_type": "stream",
     "text": [
      "151210226\n"
     ]
    }
   ],
   "source": [
    "print(*[file.split(\".\")[0] for file in os.listdir(\"opinions\")], sep=\"\\n\")"
   ]
  },
  {
   "cell_type": "markdown",
   "metadata": {},
   "source": [
    "2. Wczytanie kodu produktu o którym mają zostać przeanalizowane opinie\n"
   ]
  },
  {
   "cell_type": "code",
   "execution_count": 54,
   "metadata": {},
   "outputs": [
    {
     "data": {
      "text/html": [
       "<div>\n",
       "<style scoped>\n",
       "    .dataframe tbody tr th:only-of-type {\n",
       "        vertical-align: middle;\n",
       "    }\n",
       "\n",
       "    .dataframe tbody tr th {\n",
       "        vertical-align: top;\n",
       "    }\n",
       "\n",
       "    .dataframe thead th {\n",
       "        text-align: right;\n",
       "    }\n",
       "</style>\n",
       "<table border=\"1\" class=\"dataframe\">\n",
       "  <thead>\n",
       "    <tr style=\"text-align: right;\">\n",
       "      <th></th>\n",
       "      <th>opinion_id</th>\n",
       "      <th>author</th>\n",
       "      <th>recommend</th>\n",
       "      <th>stars</th>\n",
       "      <th>content</th>\n",
       "      <th>cons</th>\n",
       "      <th>pros</th>\n",
       "      <th>opinion_date</th>\n",
       "      <th>purchase_date</th>\n",
       "      <th>up_vote</th>\n",
       "      <th>down_vote</th>\n",
       "    </tr>\n",
       "  </thead>\n",
       "  <tbody>\n",
       "    <tr>\n",
       "      <th>0</th>\n",
       "      <td>17886609</td>\n",
       "      <td>w...7</td>\n",
       "      <td>Polecam</td>\n",
       "      <td>5.0</td>\n",
       "      <td>Bardzo dobry sprzed polecam sprzęt od firmy TCL</td>\n",
       "      <td>[]</td>\n",
       "      <td>[]</td>\n",
       "      <td>2023-09-10 11:53:31</td>\n",
       "      <td>2023-09-01 06:41:04</td>\n",
       "      <td>4</td>\n",
       "      <td>0</td>\n",
       "    </tr>\n",
       "    <tr>\n",
       "      <th>1</th>\n",
       "      <td>17950592</td>\n",
       "      <td>J...9</td>\n",
       "      <td>None</td>\n",
       "      <td>3.0</td>\n",
       "      <td>Spoiler !   nie kupiłabym już ! \\nPlusy\\n\\nCen...</td>\n",
       "      <td>[]</td>\n",
       "      <td>[]</td>\n",
       "      <td>2023-09-29 08:17:32</td>\n",
       "      <td>2023-09-23 09:41:10</td>\n",
       "      <td>3</td>\n",
       "      <td>21</td>\n",
       "    </tr>\n",
       "    <tr>\n",
       "      <th>2</th>\n",
       "      <td>17616026</td>\n",
       "      <td>m...8</td>\n",
       "      <td>Polecam</td>\n",
       "      <td>5.0</td>\n",
       "      <td>Telewizor bardzo dobrze działa, ekran bardzo j...</td>\n",
       "      <td>[]</td>\n",
       "      <td>[]</td>\n",
       "      <td>2023-06-15 17:26:18</td>\n",
       "      <td>2023-06-08 22:25:01</td>\n",
       "      <td>0</td>\n",
       "      <td>0</td>\n",
       "    </tr>\n",
       "    <tr>\n",
       "      <th>3</th>\n",
       "      <td>18550674</td>\n",
       "      <td>r...i</td>\n",
       "      <td>Polecam</td>\n",
       "      <td>5.0</td>\n",
       "      <td>Na razie jestem zadowolony</td>\n",
       "      <td>[]</td>\n",
       "      <td>[]</td>\n",
       "      <td>2024-04-04 21:59:08</td>\n",
       "      <td>2024-03-21 21:18:07</td>\n",
       "      <td>0</td>\n",
       "      <td>0</td>\n",
       "    </tr>\n",
       "    <tr>\n",
       "      <th>4</th>\n",
       "      <td>18273359</td>\n",
       "      <td>d...k</td>\n",
       "      <td>Polecam</td>\n",
       "      <td>4.5</td>\n",
       "      <td>stosunek jakosci do ceny</td>\n",
       "      <td>[]</td>\n",
       "      <td>[]</td>\n",
       "      <td>2024-01-04 13:29:02</td>\n",
       "      <td>2023-12-27 17:57:31</td>\n",
       "      <td>0</td>\n",
       "      <td>0</td>\n",
       "    </tr>\n",
       "    <tr>\n",
       "      <th>5</th>\n",
       "      <td>18222491</td>\n",
       "      <td>j...1</td>\n",
       "      <td>Polecam</td>\n",
       "      <td>5.0</td>\n",
       "      <td>Jest super</td>\n",
       "      <td>[]</td>\n",
       "      <td>[]</td>\n",
       "      <td>2023-12-19 02:14:19</td>\n",
       "      <td>2023-12-11 14:44:33</td>\n",
       "      <td>0</td>\n",
       "      <td>0</td>\n",
       "    </tr>\n",
       "    <tr>\n",
       "      <th>6</th>\n",
       "      <td>18583016</td>\n",
       "      <td>h...1</td>\n",
       "      <td>Polecam</td>\n",
       "      <td>5.0</td>\n",
       "      <td>B dobrze</td>\n",
       "      <td>[]</td>\n",
       "      <td>[]</td>\n",
       "      <td>2024-04-18 07:07:00</td>\n",
       "      <td>2024-03-19 18:47:08</td>\n",
       "      <td>0</td>\n",
       "      <td>0</td>\n",
       "    </tr>\n",
       "    <tr>\n",
       "      <th>7</th>\n",
       "      <td>17878778</td>\n",
       "      <td>KubusElo</td>\n",
       "      <td>Nie polecam</td>\n",
       "      <td>2.0</td>\n",
       "      <td>Przetestowałem w życiu wiele telewizorów i jak...</td>\n",
       "      <td>[]</td>\n",
       "      <td>[]</td>\n",
       "      <td>2023-09-07 09:58:49</td>\n",
       "      <td>None</td>\n",
       "      <td>8</td>\n",
       "      <td>6</td>\n",
       "    </tr>\n",
       "    <tr>\n",
       "      <th>8</th>\n",
       "      <td>17812249</td>\n",
       "      <td>s...i</td>\n",
       "      <td>Nie polecam</td>\n",
       "      <td>1.0</td>\n",
       "      <td>Produkt ze sklepu ***** przyjechał z wadą fabr...</td>\n",
       "      <td>[]</td>\n",
       "      <td>[]</td>\n",
       "      <td>2023-08-17 14:37:23</td>\n",
       "      <td>2023-08-02 17:34:42</td>\n",
       "      <td>2</td>\n",
       "      <td>4</td>\n",
       "    </tr>\n",
       "    <tr>\n",
       "      <th>9</th>\n",
       "      <td>17827306</td>\n",
       "      <td>s...i</td>\n",
       "      <td>Nie polecam</td>\n",
       "      <td>0.5</td>\n",
       "      <td>Towar uszkodzony fabrycznie . Odesłany do serw...</td>\n",
       "      <td>[]</td>\n",
       "      <td>[]</td>\n",
       "      <td>2023-08-23 08:03:59</td>\n",
       "      <td>2023-08-02 17:27:34</td>\n",
       "      <td>2</td>\n",
       "      <td>5</td>\n",
       "    </tr>\n",
       "  </tbody>\n",
       "</table>\n",
       "</div>"
      ],
      "text/plain": [
       "   opinion_id    author    recommend  stars  \\\n",
       "0    17886609     w...7      Polecam    5.0   \n",
       "1    17950592     J...9         None    3.0   \n",
       "2    17616026     m...8      Polecam    5.0   \n",
       "3    18550674     r...i      Polecam    5.0   \n",
       "4    18273359     d...k      Polecam    4.5   \n",
       "5    18222491     j...1      Polecam    5.0   \n",
       "6    18583016     h...1      Polecam    5.0   \n",
       "7    17878778  KubusElo  Nie polecam    2.0   \n",
       "8    17812249     s...i  Nie polecam    1.0   \n",
       "9    17827306     s...i  Nie polecam    0.5   \n",
       "\n",
       "                                             content cons pros  \\\n",
       "0    Bardzo dobry sprzed polecam sprzęt od firmy TCL   []   []   \n",
       "1  Spoiler !   nie kupiłabym już ! \\nPlusy\\n\\nCen...   []   []   \n",
       "2  Telewizor bardzo dobrze działa, ekran bardzo j...   []   []   \n",
       "3                         Na razie jestem zadowolony   []   []   \n",
       "4                           stosunek jakosci do ceny   []   []   \n",
       "5                                         Jest super   []   []   \n",
       "6                                           B dobrze   []   []   \n",
       "7  Przetestowałem w życiu wiele telewizorów i jak...   []   []   \n",
       "8  Produkt ze sklepu ***** przyjechał z wadą fabr...   []   []   \n",
       "9  Towar uszkodzony fabrycznie . Odesłany do serw...   []   []   \n",
       "\n",
       "          opinion_date        purchase_date  up_vote  down_vote  \n",
       "0  2023-09-10 11:53:31  2023-09-01 06:41:04        4          0  \n",
       "1  2023-09-29 08:17:32  2023-09-23 09:41:10        3         21  \n",
       "2  2023-06-15 17:26:18  2023-06-08 22:25:01        0          0  \n",
       "3  2024-04-04 21:59:08  2024-03-21 21:18:07        0          0  \n",
       "4  2024-01-04 13:29:02  2023-12-27 17:57:31        0          0  \n",
       "5  2023-12-19 02:14:19  2023-12-11 14:44:33        0          0  \n",
       "6  2024-04-18 07:07:00  2024-03-19 18:47:08        0          0  \n",
       "7  2023-09-07 09:58:49                 None        8          6  \n",
       "8  2023-08-17 14:37:23  2023-08-02 17:34:42        2          4  \n",
       "9  2023-08-23 08:03:59  2023-08-02 17:27:34        2          5  "
      ]
     },
     "execution_count": 54,
     "metadata": {},
     "output_type": "execute_result"
    }
   ],
   "source": [
    "product_id = input(\"Podaj kod produktu: \")\n",
    "opinions = pd.read_json(f'opinions/{product_id}.json')\n",
    "opinions.stars = opinions.stars.apply(lambda s: s.split(\"/\")[0].replace(\",\", \".\")).astype(float)\n",
    "opinions"
   ]
  },
  {
   "cell_type": "markdown",
   "metadata": {},
   "source": [
    "3. Podstawowe statystyki"
   ]
  },
  {
   "cell_type": "code",
   "execution_count": 55,
   "metadata": {},
   "outputs": [
    {
     "data": {
      "text/plain": [
       "3.6"
      ]
     },
     "execution_count": 55,
     "metadata": {},
     "output_type": "execute_result"
    }
   ],
   "source": [
    "opinions_count = opinions.shape[0]\n",
    "pros_count = opinions.pros.astype(bool).sum()\n",
    "cons_count = opinions.cons.astype(bool).sum()\n",
    "average_stars = opinions.stars.mean()\n",
    "average_stars"
   ]
  },
  {
   "cell_type": "markdown",
   "metadata": {},
   "source": [
    "4. histogram o częstości ocen w opiniach"
   ]
  },
  {
   "cell_type": "code",
   "execution_count": 64,
   "metadata": {},
   "outputs": [
    {
     "data": {
      "text/plain": [
       "[Text(0, 0, ''),\n",
       " Text(0, 0, '1'),\n",
       " Text(0, 0, '1'),\n",
       " Text(0, 0, ''),\n",
       " Text(0, 0, '1'),\n",
       " Text(0, 0, ''),\n",
       " Text(0, 0, '1'),\n",
       " Text(0, 0, ''),\n",
       " Text(0, 0, ''),\n",
       " Text(0, 0, '1'),\n",
       " Text(0, 0, '5')]"
      ]
     },
     "execution_count": 64,
     "metadata": {},
     "output_type": "execute_result"
    },
    {
     "data": {
      "image/png": "[encoded data removed]",
      "text/plain": [
       "<Figure size 640x480 with 1 Axes>"
      ]
     },
     "metadata": {},
     "output_type": "display_data"
    }
   ],
   "source": [
    "stars_distribution = opinions.stars.value_counts().reindex(np.arange(0,5.5,0.5))\n",
    "ax = stars_distribution.plot.bar()\n",
    "ax.set_title(\"Histogram częscości ocen w opiniach o produkcie\")\n",
    "ax.set_xlabel(\"Liczba gwiazdek\")\n",
    "ax.set_ylabel(\"Liczba opinii\")\n",
    "ax.bar_label(ax.containers[0], label_type = \"edge\", fmt=lambda l: int(l) if l > 0 else \"\")"
   ]
  }
 ],
 "metadata": {
  "kernelspec": {
   "display_name": ".venv",
   "language": "python",
   "name": "python3"
  },
  "language_info": {
   "codemirror_mode": {
    "name": "ipython",
    "version": 3
   },
   "file_extension": ".py",
   "mimetype": "text/x-python",
   "name": "python",
   "nbconvert_exporter": "python",
   "pygments_lexer": "ipython3",
   "version": "3.11.4"
  }
 },
 "nbformat": 4,
 "nbformat_minor": 2
}
